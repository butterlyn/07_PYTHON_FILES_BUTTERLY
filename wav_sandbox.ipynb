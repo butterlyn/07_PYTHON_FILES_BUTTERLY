{
 "cells": [
  {
   "cell_type": "raw",
   "metadata": {},
   "source": [
    "# Install module\n",
    "!python3 -m pip install wave"
   ]
  },
  {
   "cell_type": "raw",
   "metadata": {},
   "source": [
    "help(wave)"
   ]
  },
  {
   "cell_type": "code",
   "execution_count": 1,
   "metadata": {},
   "outputs": [
    {
     "data": {
      "text/plain": [
       "'100,000'"
      ]
     },
     "execution_count": 1,
     "metadata": {},
     "output_type": "execute_result"
    }
   ],
   "source": [
    "\"{:,}\".format(100000)"
   ]
  },
  {
   "cell_type": "code",
   "execution_count": 2,
   "metadata": {},
   "outputs": [
    {
     "name": "stdout",
     "output_type": "stream",
     "text": [
      "6 \n",
      " 3 \n",
      " 65536 \n",
      " 5898240\n",
      "100\n",
      "True\n",
      "3262374\n"
     ]
    }
   ],
   "source": [
    "import wave\n",
    "\n",
    "with wave.open(\"./BnK_data/20200327-095410(UTC)-200327_AnechoicChamber_0degrees_seq1_v1-0000872342.wav\") as fh:\n",
    "#     print(str(fh.getnchannels()) + \" channels\")\n",
    "#     print(\".wav \" + str(8*fh.getsampwidth()) + \"-bit file\")\n",
    "#     print(\"Sampling frequency: \" + str(\"{:,}\".format(fh.getframerate())) + \" Hz\")\n",
    "#     print(\"Number of frames (i.e. samples): \" + str(\"{:,}\".format(fh.getnframes())))\n",
    "#     print(\"Is compressed(?):\", fh.getcomptype())\n",
    "#     print(fh.getparams())\n",
    "    \n",
    "    wav_params = fh.getparams()\n",
    "    print(\n",
    "        wav_params.nchannels,\"\\n\",\n",
    "        wav_params.sampwidth,\"\\n\",\n",
    "        wav_params.framerate,\"\\n\",\n",
    "        wav_params.nframes)\n",
    "    a = fh.readframes(100)\n",
    "    fh.rewind() # read from start of .wav\n",
    "    b = fh.readframes(100)\n",
    "    print(fh.tell()) # get current file pointer position\n",
    "    print(a==b)\n",
    "    fh.setpos(3262374) # skip to sample in file\n",
    "    print(fh.tell())"
   ]
  },
  {
   "cell_type": "code",
   "execution_count": 49,
   "metadata": {},
   "outputs": [
    {
     "name": "stdout",
     "output_type": "stream",
     "text": [
      "786432\n",
      "786432.0\n",
      "2654208\n",
      "26542080\n",
      "5898240\n"
     ]
    },
    {
     "data": {
      "text/plain": [
       "[<matplotlib.lines.Line2D at 0x7f0adf020640>]"
      ]
     },
     "execution_count": 49,
     "metadata": {},
     "output_type": "execute_result"
    },
    {
     "data": {
      "image/png": "[encoded data removed]",
      "text/plain": [
       "<Figure size 432x288 with 1 Axes>"
      ]
     },
     "metadata": {
      "needs_background": "light"
     },
     "output_type": "display_data"
    }
   ],
   "source": [
    "import numpy\n",
    "import matplotlib.pyplot as pp\n",
    "\n",
    "# Read file to get buffer                                                                                               \n",
    "ifile = wave.open(\"./BnK_data/20200327-095410(UTC)-200327_AnechoicChamber_0degrees_seq1_v1-0000872342.wav\")\n",
    "samples = ifile.getnframes()\n",
    "data = ifile.readframes(samples)\n",
    "\n",
    "# Convert buffer to float32 using NumPy                                                                                 \n",
    "audio_as_np_int32 = numpy.frombuffer(data, dtype=numpy.int32)\n",
    "audio_as_np_float32 = audio_as_np_int32.astype(numpy.float32)\n",
    "\n",
    "# Normalise float32 array so that values are between -1.0 and +1.0                                                      \n",
    "max_int16 = 2**15\n",
    "audio_normalised = audio_as_np_float32 / max_int16\n",
    "\n",
    "print(audio_as_np_int32[1342])\n",
    "print(audio_as_np_float32[1342])\n",
    "\n",
    "chunk = int(wav_params.nframes / 10)\n",
    "\n",
    "def shrink(lst):\n",
    "    smaller_list = []\n",
    "    for i in range(len(lst)):\n",
    "        if i%10 == 0:\n",
    "            smaller_list.append(lst[i])\n",
    "    return smaller_list\n",
    "\n",
    "data_snipet = shrink(audio_as_np_int32)\n",
    "print(len(data_snipet))\n",
    "print(len(audio_as_np_int32))\n",
    "print(wav_params.nframes)\n",
    "pp.plot(data_snipet)"
   ]
  },
  {
   "cell_type": "code",
   "execution_count": 50,
   "metadata": {},
   "outputs": [
    {
     "data": {
      "text/plain": [
       "[1, -1048576]"
      ]
     },
     "execution_count": 50,
     "metadata": {},
     "output_type": "execute_result"
    }
   ],
   "source": [
    "bytes_object = b'\\x01\\x00\\x00\\x00\\x00\\xf0'\n",
    "[int.from_bytes(bytes_object[x:x+3], byteorder='little', signed=True) for x in range(0, len(bytes_object), 3)]"
   ]
  },
  {
   "cell_type": "code",
   "execution_count": 60,
   "metadata": {},
   "outputs": [
    {
     "name": "stdout",
     "output_type": "stream",
     "text": [
      "Help on built-in function from_bytes:\n",
      "\n",
      "from_bytes(bytes, byteorder, *, signed=False) method of builtins.type instance\n",
      "    Return the integer represented by the given array of bytes.\n",
      "    \n",
      "    bytes\n",
      "      Holds the array of bytes to convert.  The argument must either\n",
      "      support the buffer protocol or be an iterable object producing bytes.\n",
      "      Bytes and bytearray are examples of built-in objects that support the\n",
      "      buffer protocol.\n",
      "    byteorder\n",
      "      The byte order used to represent the integer.  If byteorder is 'big',\n",
      "      the most significant byte is at the beginning of the byte array.  If\n",
      "      byteorder is 'little', the most significant byte is at the end of the\n",
      "      byte array.  To request the native byte order of the host system, use\n",
      "      `sys.byteorder' as the byte order value.\n",
      "    signed\n",
      "      Indicates whether two's complement is used to represent the integer.\n",
      "\n"
     ]
    },
    {
     "data": {
      "text/plain": [
       "6"
      ]
     },
     "execution_count": 60,
     "metadata": {},
     "output_type": "execute_result"
    }
   ],
   "source": [
    "help(int.from_bytes)\n",
    "len(bytes_object)"
   ]
  },
  {
   "cell_type": "code",
   "execution_count": 61,
   "metadata": {},
   "outputs": [
    {
     "name": "stdout",
     "output_type": "stream",
     "text": [
      "Defaulting to user installation because normal site-packages is not writeable\n",
      "Collecting soundfile\n",
      "  Downloading SoundFile-0.10.3.post1-py2.py3-none-any.whl (21 kB)\n",
      "Requirement already satisfied: cffi>=1.0 in /home/butterlyn/.local/lib/python3.8/site-packages (from soundfile) (1.14.2)\n",
      "Requirement already satisfied: pycparser in /home/butterlyn/.local/lib/python3.8/site-packages (from cffi>=1.0->soundfile) (2.20)\n",
      "Installing collected packages: soundfile\n",
      "Successfully installed soundfile-0.10.3.post1\n"
     ]
    }
   ],
   "source": [
    "!python3 -m pip install soundfile"
   ]
  },
  {
   "cell_type": "code",
   "execution_count": 62,
   "metadata": {},
   "outputs": [],
   "source": [
    "import soundfile as sf\n",
    "data, samplerate = sf.read(\"./BnK_data/20200327-095410(UTC)-200327_AnechoicChamber_0degrees_seq1_v1-0000872342.wav\")"
   ]
  },
  {
   "cell_type": "code",
   "execution_count": 63,
   "metadata": {},
   "outputs": [
    {
     "data": {
      "text/plain": [
       "5898240"
      ]
     },
     "execution_count": 63,
     "metadata": {},
     "output_type": "execute_result"
    }
   ],
   "source": [
    "len(data)"
   ]
  },
  {
   "cell_type": "code",
   "execution_count": 64,
   "metadata": {},
   "outputs": [
    {
     "name": "stdout",
     "output_type": "stream",
     "text": [
      "Defaulting to user installation because normal site-packages is not writeable\n",
      "Collecting wavefile\n",
      "  Downloading wavefile-1.5.tar.gz (10 kB)\n",
      "Requirement already satisfied: numpy in /home/butterlyn/.local/lib/python3.8/site-packages (from wavefile) (1.19.1)\n",
      "Building wheels for collected packages: wavefile\n",
      "  Building wheel for wavefile (setup.py) ... \u001b[?25ldone\n",
      "\u001b[?25h  Created wheel for wavefile: filename=wavefile-1.5-py3-none-any.whl size=11590 sha256=a66cac314ddb80a5f2578b083178f481c55f91845bb86f8e7b76fae5d433a533\n",
      "  Stored in directory: /home/butterlyn/.cache/pip/wheels/fd/17/55/37a9e0c0347d7b825ad1d4947fee7ad0e46e45ea0ac1729c77\n",
      "Successfully built wavefile\n",
      "Installing collected packages: wavefile\n",
      "Successfully installed wavefile-1.5\n"
     ]
    }
   ],
   "source": [
    "!python3 -m pip install wavefile"
   ]
  },
  {
   "cell_type": "code",
   "execution_count": 70,
   "metadata": {},
   "outputs": [
    {
     "ename": "AttributeError",
     "evalue": "__enter__",
     "output_type": "error",
     "traceback": [
      "\u001b[0;31m---------------------------------------------------------------------------\u001b[0m",
      "\u001b[0;31mAttributeError\u001b[0m                            Traceback (most recent call last)",
      "\u001b[0;32m<ipython-input-70-e1bd3cdbdeb0>\u001b[0m in \u001b[0;36m<module>\u001b[0;34m\u001b[0m\n\u001b[1;32m      3\u001b[0m \u001b[0mfilepath\u001b[0m \u001b[0;34m=\u001b[0m \u001b[0;34m\"./BnK_data/20200327-095410(UTC)-200327_AnechoicChamber_0degrees_seq1_v1-0000872342.wav\"\u001b[0m\u001b[0;34m\u001b[0m\u001b[0;34m\u001b[0m\u001b[0m\n\u001b[1;32m      4\u001b[0m \u001b[0;34m\u001b[0m\u001b[0m\n\u001b[0;32m----> 5\u001b[0;31m \u001b[0;32mwith\u001b[0m \u001b[0mwavefile\u001b[0m\u001b[0;34m.\u001b[0m\u001b[0mwavefile\u001b[0m\u001b[0;34m.\u001b[0m\u001b[0mloadWave\u001b[0m\u001b[0;34m(\u001b[0m\u001b[0mfilepath\u001b[0m\u001b[0;34m)\u001b[0m \u001b[0;32mas\u001b[0m \u001b[0mfh\u001b[0m\u001b[0;34m:\u001b[0m\u001b[0;34m\u001b[0m\u001b[0;34m\u001b[0m\u001b[0m\n\u001b[0m\u001b[1;32m      6\u001b[0m     \u001b[0;32mpass\u001b[0m\u001b[0;34m\u001b[0m\u001b[0;34m\u001b[0m\u001b[0m\n",
      "\u001b[0;31mAttributeError\u001b[0m: __enter__"
     ]
    }
   ],
   "source": [
    "import wavefile\n",
    "\n",
    "filepath = \"./BnK_data/20200327-095410(UTC)-200327_AnechoicChamber_0degrees_seq1_v1-0000872342.wav\"\n",
    "\n",
    "with wavefile.wavefile.loadWave(filepath) as fh:\n",
    "    pass"
   ]
  }
 ],
 "metadata": {
  "kernelspec": {
   "display_name": "Python 3",
   "language": "python",
   "name": "python3"
  },
  "language_info": {
   "codemirror_mode": {
    "name": "ipython",
    "version": 3
   },
   "file_extension": ".py",
   "mimetype": "text/x-python",
   "name": "python",
   "nbconvert_exporter": "python",
   "pygments_lexer": "ipython3",
   "version": "3.8.3"
  }
 },
 "nbformat": 4,
 "nbformat_minor": 4
}
