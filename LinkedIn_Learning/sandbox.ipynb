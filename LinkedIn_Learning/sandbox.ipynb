{
 "cells": [
  {
   "cell_type": "code",
   "execution_count": 15,
   "metadata": {},
   "outputs": [
    {
     "name": "stdout",
     "output_type": "stream",
     "text": [
      "/home/butterlyn/documents/PROJECT_FILES_BUTTERLY\n",
      "/home/butterlyn/documents/PROJECT_FILES_BUTTERLY\n",
      "total 88\n",
      "drwxr-xr-x 14 root      root  4096 Jun 29 14:18 .\n",
      "drwxr-xr-x  5 butterlyn root  4096 May 31 12:24 ..\n",
      "drwxr-xr-x  9 root      root  4096 Jun 24 15:01 .git\n",
      "-rw-r--r--  1 root      root    21 May 31 12:26 .gitignore\n",
      "-rw-r--r--  1 root      root   683 Jun 19 13:54 .gitmodules\n",
      "drwxr-xr-x  2 root      root  4096 Jun 29 14:14 .ipynb_checkpoints\n",
      "drwxr-xr-x  7 root      root  4096 Jun 23 15:45 00_Resources\n",
      "drwxr-xr-x  6 root      root  4096 May 31 12:26 01_Deliverables\n",
      "drwxr-xr-x  3 root      root  4096 May 31 12:26 02_Project_management\n",
      "drwxr-xr-x  3 root      root  4096 May 31 12:26 03_Design\n",
      "drwxr-xr-x  4 root      root  4096 May 31 12:26 04_Data\n",
      "drwxr-xr-x  6 root      root  4096 May 31 12:26 05_Reading_documents\n",
      "drwxr-xr-x  6 root      root  4096 Jun 19 13:49 06_Git_submodules\n",
      "drwxr-xr-x  7 root      root  4096 Jun 19 13:22 07_PYTHON_FILES_BUTTERLY\n",
      "-rw-r--r--  1 root      root  2636 Jun 22 15:00 Lab_journal.ipynb\n",
      "-rw-r--r--  1 root      root     0 May 31 12:34 README.md\n",
      "-rw-r--r--  1 root      root 12727 Jun 28 14:02 Thesis_Journal.ipynb\n",
      "-rw-r--r--  1 root      root  1860 Jun 29 14:18 Untitled.ipynb\n",
      "drwxr-xr-x  9 root      root  4096 Jun  1 11:35 _Archive\n",
      "drwxr-xr-x  4 root      root  4096 Jun 22 15:55 _images\n"
     ]
    }
   ],
   "source": [
    "## \n",
    "\n",
    "import os\n",
    "\n",
    "# Print the current working directory\n",
    "cwd = os.getcwd()\n",
    "print(cwd)\n",
    "\n",
    "# If needed, set the current working directory\n",
    "os.chdir(cwd)\n",
    "print(cwd)\n",
    "\n",
    "# List contents of current working directory\n",
    "!ls -la"
   ]
  },
  {
   "cell_type": "code",
   "execution_count": 9,
   "metadata": {},
   "outputs": [],
   "source": [
    "import py.test"
   ]
  }
 ],
 "metadata": {
  "kernelspec": {
   "display_name": "Python 3",
   "language": "python",
   "name": "python3"
  },
  "language_info": {
   "codemirror_mode": {
    "name": "ipython",
    "version": 3
   },
   "file_extension": ".py",
   "mimetype": "text/x-python",
   "name": "python",
   "nbconvert_exporter": "python",
   "pygments_lexer": "ipython3",
   "version": "3.8.5"
  }
 },
 "nbformat": 4,
 "nbformat_minor": 4
}
