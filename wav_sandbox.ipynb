{
 "cells": [
  {
   "cell_type": "code",
   "execution_count": 1,
   "metadata": {},
   "outputs": [],
   "source": [
    "from soundfile import SoundFile as sf\n",
    "filepath = \"./BnK_data/20200327-095410(UTC)-200327_AnechoicChamber_0degrees_seq1_v1-0000872342.wav\""
   ]
  },
  {
   "cell_type": "code",
   "execution_count": 52,
   "metadata": {},
   "outputs": [
    {
     "name": "stdout",
     "output_type": "stream",
     "text": [
      "6\n",
      "WAV\n",
      "5898240\n",
      "65536\n",
      "./BnK_data/20200327-095410(UTC)-200327_AnechoicChamber_0degrees_seq1_v1-0000872342.wav\n"
     ]
    }
   ],
   "source": [
    "# sf_attributes = [\"channels\", \"closed\", \"endian\", \"extra_info\", \"format\", \"format_info\", \"frames\", \"mode\", \"name\", \"samplerate\", \"sections\", \"subtype\", \"subtype_info\"]\n",
    "\n",
    "with sf(filepath) as wavfile:\n",
    "    data = wavfile.read()\n",
    "    wavfile.channels\n",
    "    print(wavfile.channels)\n",
    "    print(wavfile.format)\n",
    "    print(wavfile.frames)\n",
    "    print(wavfile.samplerate)\n",
    "    print(wavfile.name)\n",
    "#     for i in prop:\n",
    "#         print(i + \" :     \")\n",
    "#         print(getattr(wavfile,i))\n",
    "#         print(\"\\n\")"
   ]
  },
  {
   "cell_type": "code",
   "execution_count": 56,
   "metadata": {},
   "outputs": [
    {
     "data": {
      "text/plain": [
       "[<matplotlib.lines.Line2D at 0x7f98a9e166d0>,\n",
       " <matplotlib.lines.Line2D at 0x7f98a9e167c0>]"
      ]
     },
     "execution_count": 56,
     "metadata": {},
     "output_type": "execute_result"
    },
    {
     "data": {
      "image/png": "[encoded data removed]",
      "text/plain": [
       "<Figure size 432x288 with 1 Axes>"
      ]
     },
     "metadata": {
      "needs_background": "light"
     },
     "output_type": "display_data"
    }
   ],
   "source": [
    "import matplotlib.pyplot as pp\n",
    "pp.plot(data[:,3:5])"
   ]
  },
  {
   "cell_type": "markdown",
   "metadata": {},
   "source": [
    "### Failed attempts at using python modules\n",
    "*wave, wavefile, scipy*"
   ]
  },
  {
   "cell_type": "raw",
   "metadata": {},
   "source": [
    "# Install module\n",
    "!python3 -m pip install wave"
   ]
  },
  {
   "cell_type": "raw",
   "metadata": {},
   "source": [
    "help(wave)"
   ]
  },
  {
   "cell_type": "raw",
   "metadata": {},
   "source": [
    "\"{:,}\".format(100000)"
   ]
  },
  {
   "cell_type": "raw",
   "metadata": {},
   "source": [
    "import wave\n",
    "\n",
    "with wave.open(\"./BnK_data/20200327-095410(UTC)-200327_AnechoicChamber_0degrees_seq1_v1-0000872342.wav\") as fh:\n",
    "#     print(str(fh.getnchannels()) + \" channels\")\n",
    "#     print(\".wav \" + str(8*fh.getsampwidth()) + \"-bit file\")\n",
    "#     print(\"Sampling frequency: \" + str(\"{:,}\".format(fh.getframerate())) + \" Hz\")\n",
    "#     print(\"Number of frames (i.e. samples): \" + str(\"{:,}\".format(fh.getnframes())))\n",
    "#     print(\"Is compressed(?):\", fh.getcomptype())\n",
    "#     print(fh.getparams())\n",
    "    \n",
    "    wav_params = fh.getparams()\n",
    "    print(\n",
    "        wav_params.nchannels,\"\\n\",\n",
    "        wav_params.sampwidth,\"\\n\",\n",
    "        wav_params.framerate,\"\\n\",\n",
    "        wav_params.nframes)\n",
    "    a = fh.readframes(100)\n",
    "    fh.rewind() # read from start of .wav\n",
    "    b = fh.readframes(100)\n",
    "    print(fh.tell()) # get current file pointer position\n",
    "    print(a==b)\n",
    "    fh.setpos(3262374) # skip to sample in file\n",
    "    print(fh.tell())"
   ]
  },
  {
   "cell_type": "raw",
   "metadata": {},
   "source": [
    "import numpy\n",
    "import matplotlib.pyplot as pp\n",
    "\n",
    "# Read file to get buffer                                                                                               \n",
    "ifile = wave.open(\"./BnK_data/20200327-095410(UTC)-200327_AnechoicChamber_0degrees_seq1_v1-0000872342.wav\")\n",
    "samples = ifile.getnframes()\n",
    "data = ifile.readframes(samples)\n",
    "\n",
    "# Convert buffer to float32 using NumPy                                                                                 \n",
    "audio_as_np_int32 = numpy.frombuffer(data, dtype=numpy.int32)\n",
    "audio_as_np_float32 = audio_as_np_int32.astype(numpy.float32)\n",
    "\n",
    "# Normalise float32 array so that values are between -1.0 and +1.0                                                      \n",
    "max_int16 = 2**15\n",
    "audio_normalised = audio_as_np_float32 / max_int16\n",
    "\n",
    "print(audio_as_np_int32[1342])\n",
    "print(audio_as_np_float32[1342])\n",
    "\n",
    "chunk = int(wav_params.nframes / 10)\n",
    "\n",
    "def shrink(lst):\n",
    "    smaller_list = []\n",
    "    for i in range(len(lst)):\n",
    "        if i%10 == 0:\n",
    "            smaller_list.append(lst[i])\n",
    "    return smaller_list\n",
    "\n",
    "data_snipet = shrink(audio_as_np_int32)\n",
    "print(len(data_snipet))\n",
    "print(len(audio_as_np_int32))\n",
    "print(wav_params.nframes)\n",
    "pp.plot(data_snipet)"
   ]
  },
  {
   "cell_type": "raw",
   "metadata": {},
   "source": [
    "bytes_object = b'\\x01\\x00\\x00\\x00\\x00\\xf0'\n",
    "[int.from_bytes(bytes_object[x:x+3], byteorder='little', signed=True) for x in range(0, len(bytes_object), 3)]"
   ]
  },
  {
   "cell_type": "raw",
   "metadata": {},
   "source": [
    "help(int.from_bytes)\n",
    "len(bytes_object)"
   ]
  },
  {
   "cell_type": "raw",
   "metadata": {},
   "source": [
    "!python3 -m pip install soundfile"
   ]
  },
  {
   "cell_type": "raw",
   "metadata": {},
   "source": [
    "import soundfile as sf\n",
    "data, samplerate = sf.read(\"./BnK_data/20200327-095410(UTC)-200327_AnechoicChamber_0degrees_seq1_v1-0000872342.wav\")"
   ]
  },
  {
   "cell_type": "raw",
   "metadata": {},
   "source": [
    "len(data)"
   ]
  },
  {
   "cell_type": "raw",
   "metadata": {},
   "source": [
    "!python3 -m pip install wavefile"
   ]
  },
  {
   "cell_type": "raw",
   "metadata": {},
   "source": [
    "import wavefile\n",
    "\n",
    "filepath = \"./BnK_data/20200327-095410(UTC)-200327_AnechoicChamber_0degrees_seq1_v1-0000872342.wav\"\n",
    "\n",
    "with wavefile.wavefile.loadWave(filepath) as fh:\n",
    "    pass"
   ]
  }
 ],
 "metadata": {
  "kernelspec": {
   "display_name": "Python 3",
   "language": "python",
   "name": "python3"
  },
  "language_info": {
   "codemirror_mode": {
    "name": "ipython",
    "version": 3
   },
   "file_extension": ".py",
   "mimetype": "text/x-python",
   "name": "python",
   "nbconvert_exporter": "python",
   "pygments_lexer": "ipython3",
   "version": "3.8.3"
  }
 },
 "nbformat": 4,
 "nbformat_minor": 4
}
