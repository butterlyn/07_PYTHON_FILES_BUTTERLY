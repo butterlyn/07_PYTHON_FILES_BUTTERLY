{
 "cells": [
  {
   "cell_type": "raw",
   "metadata": {},
   "source": [
    "from bnk.bnk import WavHeader, OpenWav, Instrument"
   ]
  },
  {
   "cell_type": "raw",
   "metadata": {},
   "source": [
    "bnk_ip = \"192.168.0.70\"\n",
    "ADAC = Instrument(bnk_ip)\n",
    "# print(ADAC)\n",
    "# print(ADAC?)"
   ]
  },
  {
   "cell_type": "raw",
   "metadata": {},
   "source": [
    "ADAC.disable_all()\n",
    "ADAC.set_samplerate(8192)\n",
    "ADAC.set_name('Test Recording')\n",
    "ADAC.set_channel(channel=1,\n",
    "                 name='Input signal', \n",
    "                 c_filter='7.0 Hz',\n",
    "                 c_range='10 Vpeak')\n",
    "ADAC.powerup()\n",
    "recording_id = ADAC.record(10)\n",
    "ADAC.powerdown()"
   ]
  },
  {
   "cell_type": "raw",
   "metadata": {},
   "source": [
    "WAV_file = ADAC.get_wav(directory='samples',\n",
    "                        recording_id=recording_id)\n",
    "print(WAV_file)\n",
    "# ADAC.delete_recording(recording_id=recording_id)"
   ]
  },
  {
   "cell_type": "raw",
   "metadata": {},
   "source": [
    "wav_data, metadata = OpenWav(WAV_file, verbose=True)"
   ]
  },
  {
   "cell_type": "raw",
   "metadata": {},
   "source": [
    "ADAC.list_recordings()"
   ]
  },
  {
   "cell_type": "code",
   "execution_count": 23,
   "metadata": {},
   "outputs": [],
   "source": [
    "wav_data, meta1, meta2 = OpenWav('BnK_data/20200327-095410(UTC)-200327_AnechoicChamber_0degrees_seq1_v1-0000872342.wav')"
   ]
  },
  {
   "cell_type": "code",
   "execution_count": 32,
   "metadata": {},
   "outputs": [
    {
     "data": {
      "text/plain": [
       "array([[-4.25041437e-06,  8.50082874e-06, -1.41680479e-05,\n",
       "        -2.83360958e-06,  7.65074587e-05,  8.50082874e-06],\n",
       "       [ 8.50082874e-06,  2.40856814e-05, -1.70016575e-05,\n",
       "         7.08402395e-06,  4.10873389e-05,  1.98352671e-05],\n",
       "       [ 1.13344383e-05,  2.55024862e-05, -1.41680479e-05,\n",
       "        -9.91763353e-06,  4.95881677e-05,  1.98352671e-05],\n",
       "       ...,\n",
       "       [-9.91763353e-06, -4.39209485e-05,  3.40033150e-05,\n",
       "         2.69192910e-05,  2.83360958e-06,  6.94234347e-05],\n",
       "       [-1.13344383e-05, -3.54201198e-05,  5.38385820e-05,\n",
       "         7.08402395e-06,  1.13344383e-05,  7.93410683e-05],\n",
       "       [ 1.41680479e-06, -4.25041437e-05,  3.96705341e-05,\n",
       "         1.84184623e-05, -2.83360958e-06,  3.54201198e-05]])"
      ]
     },
     "execution_count": 32,
     "metadata": {},
     "output_type": "execute_result"
    }
   ],
   "source": [
    "wav_data"
   ]
  }
 ],
 "metadata": {
  "kernelspec": {
   "display_name": "Python 3",
   "language": "python",
   "name": "python3"
  },
  "language_info": {
   "codemirror_mode": {
    "name": "ipython",
    "version": 3
   },
   "file_extension": ".py",
   "mimetype": "text/x-python",
   "name": "python",
   "nbconvert_exporter": "python",
   "pygments_lexer": "ipython3",
   "version": "3.8.3"
  }
 },
 "nbformat": 4,
 "nbformat_minor": 4
}
