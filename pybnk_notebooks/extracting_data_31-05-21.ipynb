{
 "cells": [
  {
   "cell_type": "markdown",
   "metadata": {},
   "source": [
    "# Extracting Data\n",
    "*Scope: Use pybnk module in order to extract the data existing on the bnk as of 31-05-21 (first day using the bnk after the 2021 thesis restart).*"
   ]
  },
  {
   "cell_type": "code",
   "execution_count": null,
   "metadata": {},
   "outputs": [],
   "source": [
    "!pwd"
   ]
  },
  {
   "cell_type": "code",
   "execution_count": 3,
   "metadata": {},
   "outputs": [],
   "source": [
    "from bnk.bnk import WavHeader, OpenWav, Instrument"
   ]
  },
  {
   "cell_type": "code",
   "execution_count": null,
   "metadata": {
    "tags": []
   },
   "outputs": [],
   "source": [
    "# Create an instance of the Instrument class\n",
    "# We choose the variable name 'ADAC' (Analog to Digital ACquisition)\n",
    "bnk_ip = \"169.254.167.205\"\n",
    "ADAC = Instrument(bnk_ip)\n",
    "print(ADAC) # Show some info about the BnK device"
   ]
  },
  {
   "cell_type": "markdown",
   "metadata": {},
   "source": [
    "In Jupyter, you can help for an object, function, method, etc by adding a question mark, and running the code. For example, this will give you a list of the methods associated with ADAC:"
   ]
  },
  {
   "cell_type": "code",
   "execution_count": null,
   "metadata": {},
   "outputs": [],
   "source": [
    "ADAC?"
   ]
  },
  {
   "cell_type": "markdown",
   "metadata": {},
   "source": [
    "And you can get information on any method in the class by typing `ADAC.method?`, for example:"
   ]
  },
  {
   "cell_type": "code",
   "execution_count": null,
   "metadata": {},
   "outputs": [],
   "source": [
    "ADAC.set_samplerate?"
   ]
  },
  {
   "cell_type": "markdown",
   "metadata": {},
   "source": [
    "Let's suppose that you have connected the BnK device to a signal on channel 1, and you wish to record this signal for 10 seconds at a sampling rate of 8192 SPS (samples per second), in the range of -10 Volts to 10 Volts, and with a 7 Hz high-pass filter.\n",
    "\n",
    "We will call the recording \"Test Recording\" and we will label channel 1 as \"Input signal\".\n"
   ]
  },
  {
   "cell_type": "code",
   "execution_count": null,
   "metadata": {},
   "outputs": [],
   "source": [
    "ADAC.disable_all()\n",
    "ADAC.set_samplerate(8192)\n",
    "ADAC.set_name('Test Recording')\n",
    "ADAC.set_channel(channel=1, name='Input signal', \n",
    "                 c_filter='7.0 Hz', c_range='10 Vpeak')\n",
    "ADAC.powerup()\n",
    "recording_id = ADAC.record(10)\n",
    "ADAC.powerdown()"
   ]
  },
  {
   "cell_type": "markdown",
   "metadata": {},
   "source": [
    "We will then save the recording in a WAV file in the `samples` directory, delete the recording from the BnK device SD card, and import the data and metadata into the python workspace."
   ]
  },
  {
   "cell_type": "code",
   "execution_count": null,
   "metadata": {},
   "outputs": [],
   "source": [
    "WAV_file = ADAC.get_wav(directory='samples',recording_id=recording_id)\n",
    "print(WAV_file)\n",
    "ADAC.delete_recording(recording_id=recording_id)"
   ]
  },
  {
   "cell_type": "code",
   "execution_count": null,
   "metadata": {},
   "outputs": [],
   "source": [
    "wav_data, metadata = OpenWav(WAV_file, verbose=True)"
   ]
  },
  {
   "cell_type": "code",
   "execution_count": null,
   "metadata": {},
   "outputs": [],
   "source": [
    "ADAC.list_recordings()"
   ]
  }
 ],
 "metadata": {
  "kernelspec": {
   "display_name": "Python 3",
   "language": "python",
   "name": "python3"
  },
  "language_info": {
   "codemirror_mode": {
    "name": "ipython",
    "version": 3
   },
   "file_extension": ".py",
   "mimetype": "text/x-python",
   "name": "python",
   "nbconvert_exporter": "python",
   "pygments_lexer": "ipython3",
   "version": "3.8.5"
  }
 },
 "nbformat": 4,
 "nbformat_minor": 4
}
