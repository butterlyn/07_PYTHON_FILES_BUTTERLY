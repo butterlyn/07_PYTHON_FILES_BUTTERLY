{
 "cells": [
  {
   "cell_type": "code",
   "execution_count": 1,
   "metadata": {},
   "outputs": [],
   "source": [
    "json_filepath = \"BnK_data/20200327-095410(UTC)-200327_AnechoicChamber_0degrees_seq1_v1-0000872342.json\"\n",
    "wav_filepath = \"BnK_data/20200327-095410(UTC)-200327_AnechoicChamber_0degrees_seq1_v1-0000872342.wav\"\n",
    "\n",
    "from soundfile import SoundFile as sf\n",
    "from collections import namedtuple\n",
    "import matplotlib.pyplot as pp\n",
    "import scipy.signal\n",
    "import scipy\n",
    "import numpy as np\n",
    "import json"
   ]
  },
  {
   "cell_type": "code",
   "execution_count": 2,
   "metadata": {},
   "outputs": [],
   "source": [
    "def extract_wav(filepath: '.wav file'):\n",
    "    params_tuple = namedtuple('params',['channels','file_format','nframes','samplerate','name'])\n",
    "    with sf(filepath) as wavfile:\n",
    "        data = wavfile.read()\n",
    "        params = params_tuple(\n",
    "            channels = wavfile.channels,\n",
    "            file_format = wavfile.format,\n",
    "            nframes = wavfile.frames,\n",
    "            samplerate = wavfile.samplerate,\n",
    "            name = wavfile.name)\n",
    "    return data, params"
   ]
  },
  {
   "cell_type": "code",
   "execution_count": 3,
   "metadata": {},
   "outputs": [],
   "source": [
    "data, params = extract_wav(wav_filepath)"
   ]
  },
  {
   "cell_type": "code",
   "execution_count": 4,
   "metadata": {},
   "outputs": [
    {
     "data": {
      "text/plain": [
       "65536"
      ]
     },
     "execution_count": 4,
     "metadata": {},
     "output_type": "execute_result"
    }
   ],
   "source": [
    "params.samplerate"
   ]
  },
  {
   "cell_type": "code",
   "execution_count": 5,
   "metadata": {},
   "outputs": [
    {
     "name": "stdout",
     "output_type": "stream",
     "text": [
      "dict_keys(['channels', 'datetime', 'maxSize', 'module', 'name', 'recordingMode'])\n",
      "200327_AnechoicChamber_0degrees_seq1_v1\n",
      "10 Vpeak\n"
     ]
    }
   ],
   "source": [
    "with open(json_filepath) as json_obj:\n",
    "    json_contents = json.load(json_obj)\n",
    "    print(json_contents.keys())\n",
    "    print(json_contents['name'])\n",
    "    print(json_contents['channels'][0]['range'])"
   ]
  },
  {
   "cell_type": "raw",
   "metadata": {},
   "source": [
    "pp.plot(data)"
   ]
  }
 ],
 "metadata": {
  "kernelspec": {
   "display_name": "Python 3",
   "language": "python",
   "name": "python3"
  },
  "language_info": {
   "codemirror_mode": {
    "name": "ipython",
    "version": 3
   },
   "file_extension": ".py",
   "mimetype": "text/x-python",
   "name": "python",
   "nbconvert_exporter": "python",
   "pygments_lexer": "ipython3",
   "version": "3.8.3"
  }
 },
 "nbformat": 4,
 "nbformat_minor": 4
}
