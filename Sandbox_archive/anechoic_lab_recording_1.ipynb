{
 "cells": [
  {
   "cell_type": "code",
   "execution_count": 4,
   "metadata": {},
   "outputs": [],
   "source": [
    "from bnk.bnk import WavHeader, OpenWav, Instrument"
   ]
  },
  {
   "cell_type": "raw",
   "metadata": {},
   "source": [
    "bnk_ip = \"192.168.0.70\"\n",
    "ADAC = Instrument(bnk_ip)\n",
    "# print(ADAC)\n",
    "# print(ADAC?)"
   ]
  },
  {
   "cell_type": "raw",
   "metadata": {},
   "source": [
    "ADAC.disable_all()\n",
    "ADAC.set_samplerate(8192)\n",
    "ADAC.set_name('Test Recording')\n",
    "ADAC.set_channel(channel=1,\n",
    "                 name='Input signal', \n",
    "                 c_filter='7.0 Hz',\n",
    "                 c_range='10 Vpeak')\n",
    "ADAC.powerup()\n",
    "recording_id = ADAC.record(10)\n",
    "ADAC.powerdown()"
   ]
  },
  {
   "cell_type": "raw",
   "metadata": {},
   "source": [
    "WAV_file = ADAC.get_wav(directory='samples',\n",
    "                        recording_id=recording_id)\n",
    "print(WAV_file)\n",
    "# ADAC.delete_recording(recording_id=recording_id)"
   ]
  },
  {
   "cell_type": "raw",
   "metadata": {},
   "source": [
    "wav_data, metadata = OpenWav(WAV_file, verbose=True)"
   ]
  },
  {
   "cell_type": "raw",
   "metadata": {},
   "source": [
    "ADAC.list_recordings()"
   ]
  },
  {
   "cell_type": "code",
   "execution_count": 12,
   "metadata": {},
   "outputs": [],
   "source": [
    "wav_data, meta_data, json_data = OpenWav('/home/butterlyn/documents/BUTTERLYN_WSL_FILES/BnK_data/20200327-095410(UTC)-200327_AnechoicChamber_0degrees_seq1_v1-0000872342.wav')"
   ]
  },
  {
   "cell_type": "code",
   "execution_count": 13,
   "metadata": {},
   "outputs": [
    {
     "data": {
      "text/plain": [
       "(5898240, 6)"
      ]
     },
     "execution_count": 13,
     "metadata": {},
     "output_type": "execute_result"
    }
   ],
   "source": [
    "wav_data.shape"
   ]
  }
 ],
 "metadata": {
  "kernelspec": {
   "display_name": "Python 3",
   "language": "python",
   "name": "python3"
  },
  "language_info": {
   "codemirror_mode": {
    "name": "ipython",
    "version": 3
   },
   "file_extension": ".py",
   "mimetype": "text/x-python",
   "name": "python",
   "nbconvert_exporter": "python",
   "pygments_lexer": "ipython3",
   "version": "3.8.3"
  }
 },
 "nbformat": 4,
 "nbformat_minor": 4
}
