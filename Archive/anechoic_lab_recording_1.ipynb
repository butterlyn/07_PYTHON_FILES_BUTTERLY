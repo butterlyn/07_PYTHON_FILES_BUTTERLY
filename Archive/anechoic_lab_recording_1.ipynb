{
 "cells": [
  {
   "cell_type": "code",
   "execution_count": 1,
   "metadata": {},
   "outputs": [],
   "source": [
    "from bnk.bnk import WavHeader, OpenWav, Instrument"
   ]
  },
  {
   "cell_type": "code",
   "execution_count": 2,
   "metadata": {},
   "outputs": [
    {
     "name": "stdout",
     "output_type": "stream",
     "text": [
      "\n",
      "\tBnK state : RecorderOpened\n",
      "\tcommands sent : 99\n",
      "\tBnK clock : Fri, 02 Oct 2020 13:19:34 GMT\n",
      "\n",
      "BnK Properties:\n",
      "    6 channels\n",
      "    SD card is inserted\n",
      "    Filters      : ['DC', '0.1 Hz 10%', '0.7 Hz', '1.0 Hz 10%', '7.0 Hz', '22.4 Hz', 'Intensity']\n",
      "    SampleRates  : [131072, 65536, 32768, 16384, 8192, 4096]        \n",
      "    Ranges       : ['10 Vpeak', '31.6 Vpeak']\n",
      "\n",
      "\tDefault setup\n",
      "\tChannel 1 : Channel 1\n",
      "\t\t131072 SPS, 7.0 Hz filter, 10 Vpeak, 1V/V.\n",
      "\tChannel 2 : Channel 2\n",
      "\t\t131072 SPS, 7.0 Hz filter, 10 Vpeak, 1V/V.\n",
      "\tChannel 3 : Channel 3\n",
      "\t\t131072 SPS, 7.0 Hz filter, 10 Vpeak, 1V/V.\n",
      "\tChannel 4 : Channel 4\n",
      "\t\t131072 SPS, 7.0 Hz filter, 10 Vpeak, 1V/V.\n",
      "\tChannel 5 : Channel 5\n",
      "\t\t131072 SPS, 7.0 Hz filter, 10 Vpeak, 1V/V.\n",
      "\tChannel 6 : Channel 6\n",
      "\t\t131072 SPS, 7.0 Hz filter, 10 Vpeak, 1V/V.\n",
      "\n",
      "\tBnK state : RecorderOpened\n",
      "\tcommands sent : 99\n",
      "\tBnK clock : Fri, 02 Oct 2020 13:19:35 GMT\n"
     ]
    }
   ],
   "source": [
    "bnk_ip = \"192.168.3.2\"\n",
    "ADAC = Instrument(bnk_ip)\n",
    "print(ADAC)"
   ]
  },
  {
   "cell_type": "code",
   "execution_count": 3,
   "metadata": {},
   "outputs": [
    {
     "name": "stdout",
     "output_type": "stream",
     "text": [
      "\n",
      "\tBnK state : RecorderOpened\n",
      "\tcommands sent : 99\n",
      "\tBnK clock : Fri, 02 Oct 2020 13:19:35 GMT\n",
      "\n",
      "\tBnK state : RecorderConfiguring\n",
      "\tcommands sent : 100\n",
      "\tBnK clock : Fri, 02 Oct 2020 13:19:35 GMT\n",
      "\n",
      "\tBnK state : RecorderStreaming\n",
      "\tcommands sent : 106\n",
      "\tBnK clock : Fri, 02 Oct 2020 13:19:36 GMT\n",
      "The recording uri is : http://192.168.3.2//rest/rec/measurements/0000313358\n",
      "\n",
      "\tBnK state : RecorderRecording\n",
      "\tcommands sent : 113\n",
      "\tBnK clock : Fri, 02 Oct 2020 13:19:36 GMT\n",
      "\n",
      "\tBnK state : RecorderStreaming\n",
      "\tcommands sent : 168\n",
      "\tBnK clock : Fri, 02 Oct 2020 13:19:47 GMT\n",
      "\n",
      "\tBnK state : RecorderStreaming\n",
      "\tcommands sent : 168\n",
      "\tBnK clock : Fri, 02 Oct 2020 13:19:47 GMT\n",
      "Closing recorder application\n",
      "(This can take a while if there are lots of recordings)\n",
      "\n",
      "\tBnK state : RecorderOpened\n",
      "\tcommands sent : 175\n",
      "\tBnK clock : Fri, 02 Oct 2020 13:19:49 GMT\n",
      "Waiting 4 seconds for powerdown completion...\n",
      "Updating list of recordings ...\n"
     ]
    }
   ],
   "source": [
    "ADAC.disable_all()\n",
    "ADAC.set_samplerate(8192)\n",
    "ADAC.set_name('Test Recording')\n",
    "ADAC.set_channel(channel=1,\n",
    "                 name='Input signal', \n",
    "                 c_filter='7.0 Hz',\n",
    "                 c_range='10 Vpeak')\n",
    "ADAC.powerup()\n",
    "recording_id = ADAC.record(10)\n",
    "ADAC.powerdown()"
   ]
  },
  {
   "cell_type": "code",
   "execution_count": 4,
   "metadata": {},
   "outputs": [
    {
     "name": "stdout",
     "output_type": "stream",
     "text": [
      "./Test_Recording_20201002211936.wav\n"
     ]
    }
   ],
   "source": [
    "WAV_file = ADAC.get_wav(directory='.',\n",
    "                        recording_id=recording_id)\n",
    "print(WAV_file)\n",
    "# ADAC.delete_recording(recording_id=recording_id)"
   ]
  },
  {
   "cell_type": "code",
   "execution_count": 5,
   "metadata": {},
   "outputs": [
    {
     "name": "stdout",
     "output_type": "stream",
     "text": [
      "Header info for ./Test_Recording_20201002211936.wav\n",
      "ChunkID  :  RIFF\n",
      "ChunkSize  :  278798\n",
      "Format  :  WAVE\n",
      "Subchunk1ID  :  fmt \n",
      "Subchunk1Size  :  16\n",
      "AudioFormat  :  1\n",
      "NumChannels  :  1\n",
      "SampleRate  :  8192\n",
      "ByteRate  :  24576\n",
      "BlockAlign  :  3\n",
      "BitsPerSample  :  24\n",
      "Meta  :  JUNK\n",
      "MetaSize  :  32716\n",
      "Subchunk2ID  :  data\n",
      "Subchunk2Size  :  245760\n",
      "ExtraBytes  :  b'bkdk\\xb8\\x00\\x00\\x002.10\\x00201002 13:19:36\\x00None\\x001.000000000000000\\x00None\\x000 dB\\x00None\\x001.0\\x00None\\x0011.885020\\x000.0\\x00160.0\\x00SQ0\\x00LAN-XI stand-alone recorder\\x00Recording name: Test Recording. Recording date/time is in UTC.\\x00\\x00bkExN\\x00\\x00\\x00\\n[SETUP START]\\nNoChannels=1\\n[Channel 1]\\nUnit=V\\nName=Input signal\\n[SETUP STOP]\\n'\n",
      "Scale  :  [11.88502]\n",
      "Sensitivity  :  [1.0]\n",
      "Transducer  :  ['None']\n",
      "Date  :  201002 13:19:36\n",
      "UnitName  :  LAN-XI stand-alone recorder\n",
      "Label  :  Test Recording\n",
      "ChannelUnits  :  ['V']\n",
      "ChannelNames  :  ['Input signal']\n",
      "\n",
      "./Test_Recording_20201002211936.wav contains 1 channels, with 81920 samples per channel.\n",
      "\n",
      "{'size': 278806, 'duration': 11000, 'uri': '/rest/rec/measurements/20201002-131936(UTC)---0000313358', 'setup': {'channels': [{'bandwidth': '3.2 kHz', 'ccld': False, 'channel': 1, 'destinations': ['sd'], 'enabled': True, 'filter': '7.0 Hz', 'floating': False, 'name': 'Input signal', 'polvolt': False, 'range': '10 Vpeak', 'transducer': {'requires200V': False, 'requiresCcld': False, 'sensitivity': 1.0, 'serialNumber': '0', 'type': {'model': '', 'number': 'None', 'prefix': '', 'variant': ''}, 'unit': 'V'}}, {'bandwidth': '3.2 kHz', 'ccld': False, 'channel': 2, 'destinations': ['sd'], 'enabled': False, 'filter': '7.0 Hz', 'floating': False, 'name': 'Channel 2', 'polvolt': False, 'range': '10 Vpeak', 'transducer': {'requires200V': False, 'requiresCcld': False, 'sensitivity': 1, 'serialNumber': 0, 'type': {'model': '', 'number': 'None', 'prefix': '', 'variant': ''}, 'unit': 'V'}}, {'bandwidth': '3.2 kHz', 'ccld': False, 'channel': 3, 'destinations': ['sd'], 'enabled': False, 'filter': '7.0 Hz', 'floating': False, 'name': 'Channel 3', 'polvolt': False, 'range': '10 Vpeak', 'transducer': {'requires200V': False, 'requiresCcld': False, 'sensitivity': 1, 'serialNumber': 0, 'type': {'model': '', 'number': 'None', 'prefix': '', 'variant': ''}, 'unit': 'V'}}, {'bandwidth': '3.2 kHz', 'ccld': False, 'channel': 4, 'destinations': ['sd'], 'enabled': False, 'filter': '7.0 Hz', 'floating': False, 'name': 'Channel 4', 'polvolt': False, 'range': '10 Vpeak', 'transducer': {'requires200V': False, 'requiresCcld': False, 'sensitivity': 1, 'serialNumber': 0, 'type': {'model': '', 'number': 'None', 'prefix': '', 'variant': ''}, 'unit': 'V'}}, {'bandwidth': '3.2 kHz', 'ccld': False, 'channel': 5, 'destinations': ['sd'], 'enabled': False, 'filter': '7.0 Hz', 'floating': False, 'name': 'Channel 5', 'polvolt': False, 'range': '10 Vpeak', 'transducer': {'requires200V': False, 'requiresCcld': False, 'sensitivity': 1, 'serialNumber': 0, 'type': {'model': '', 'number': 'None', 'prefix': '', 'variant': ''}, 'unit': 'V'}}, {'bandwidth': '3.2 kHz', 'ccld': False, 'channel': 6, 'destinations': ['sd'], 'enabled': False, 'filter': '7.0 Hz', 'floating': False, 'name': 'Channel 6', 'polvolt': False, 'range': '10 Vpeak', 'transducer': {'requires200V': False, 'requiresCcld': False, 'sensitivity': 1, 'serialNumber': 0, 'type': {'model': '', 'number': 'None', 'prefix': '', 'variant': ''}, 'unit': 'V'}}], 'datetime': 1601644776000, 'maxSize': 2147483647, 'module': {'frontpanel': {'serial': 101211, 'type': {'model': '', 'number': '2100', 'prefix': 'UA', 'variant': '060'}, 'version': {'hardware': '1.0.0.0'}}, 'serial': 100757, 'type': {'model': 'B', 'number': '3050', 'prefix': '', 'variant': '060'}, 'version': {'firmware': '2.0.0.214', 'hardware': '1.5.0.0'}}, 'name': 'Test Recording', 'recordingMode': 'Single'}}\n"
     ]
    }
   ],
   "source": [
    "wav_data, meta_data, json_data = OpenWav(WAV_file, verbose=True)"
   ]
  },
  {
   "cell_type": "code",
   "execution_count": 6,
   "metadata": {},
   "outputs": [
    {
     "name": "stdout",
     "output_type": "stream",
     "text": [
      "1 : 2006-08-01 08:00:31, 32 kB, 0.0 seconds\n",
      "\tDefault setup\n",
      "\tChannel 1 : Channel 1\n",
      "\t\t131072 SPS, 7.0 Hz filter, 10 Vpeak, 1V/V.\n",
      "\tChannel 2 : Channel 2\n",
      "\t\t131072 SPS, 7.0 Hz filter, 10 Vpeak, 1V/V.\n",
      "\tChannel 3 : Channel 3\n",
      "\t\t131072 SPS, 7.0 Hz filter, 10 Vpeak, 1V/V.\n",
      "\tChannel 4 : Channel 4\n",
      "\t\t131072 SPS, 7.0 Hz filter, 10 Vpeak, 1V/V.\n",
      "\tChannel 5 : Channel 5\n",
      "\t\t131072 SPS, 7.0 Hz filter, 10 Vpeak, 1V/V.\n",
      "\tChannel 6 : Channel 6\n",
      "\t\t131072 SPS, 7.0 Hz filter, 10 Vpeak, 1V/V.\n",
      "\n",
      "2 : 2020-10-02 21:16:27, 272 kB, 11.0 seconds\n",
      "\tTest Recording\n",
      "\tChannel 1 : Input signal\n",
      "\t\t8192 SPS, 7.0 Hz filter, 10 Vpeak, 1.0V/V.\n",
      "\n",
      "3 : 2020-10-02 21:19:36, 272 kB, 11.0 seconds\n",
      "\tTest Recording\n",
      "\tChannel 1 : Input signal\n",
      "\t\t8192 SPS, 7.0 Hz filter, 10 Vpeak, 1.0V/V.\n",
      "\n"
     ]
    }
   ],
   "source": [
    "ADAC.list_recordings()"
   ]
  },
  {
   "cell_type": "code",
   "execution_count": 8,
   "metadata": {},
   "outputs": [
    {
     "data": {
      "text/plain": [
       "(81920, 1)"
      ]
     },
     "execution_count": 8,
     "metadata": {},
     "output_type": "execute_result"
    }
   ],
   "source": [
    "wav_data.shape"
   ]
  }
 ],
 "metadata": {
  "kernelspec": {
   "display_name": "Python 3",
   "language": "python",
   "name": "python3"
  },
  "language_info": {
   "codemirror_mode": {
    "name": "ipython",
    "version": 3
   },
   "file_extension": ".py",
   "mimetype": "text/x-python",
   "name": "python",
   "nbconvert_exporter": "python",
   "pygments_lexer": "ipython3",
   "version": "3.8.3"
  }
 },
 "nbformat": 4,
 "nbformat_minor": 4
}
